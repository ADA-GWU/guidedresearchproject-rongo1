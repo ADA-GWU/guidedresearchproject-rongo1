{
 "cells": [
  {
   "cell_type": "code",
   "execution_count": 25,
   "metadata": {},
   "outputs": [],
   "source": [
    "import numpy as np\n",
    "import torch\n",
    "import torch.nn as nn\n",
    "from torchvision import datasets\n",
    "from torchvision import transforms\n",
    "from torch.utils.data.sampler import SubsetRandomSampler\n",
    "import matplotlib.pyplot as plt\n",
    "from torch.utils.data import ConcatDataset\n",
    "\n",
    "\n",
    "device = torch.device('cuda' if torch.cuda.is_available() else 'cpu')"
   ]
  },
  {
   "cell_type": "code",
   "execution_count": 26,
   "metadata": {},
   "outputs": [
    {
     "name": "stdout",
     "output_type": "stream",
     "text": [
      "Files already downloaded and verified\n",
      "Files already downloaded and verified\n"
     ]
    }
   ],
   "source": [
    "def get_dataset(data_dir):\n",
    "    transform = transforms.Compose([\n",
    "            transforms.ToTensor()\n",
    "        ])\n",
    "    train_dataset = datasets.CIFAR10(\n",
    "        root=data_dir, train=True, download= True,  transform=transform,\n",
    "    )\n",
    "    test_dataset = datasets.CIFAR10(\n",
    "        root=data_dir, train=False, download= True,  transform=transform,\n",
    "    )\n",
    "    full_dataset = ConcatDataset([train_dataset, test_dataset])\n",
    " \n",
    "    train_loader = torch.utils.data.DataLoader(\n",
    "    full_dataset, batch_size=1,\n",
    "     num_workers=2\n",
    ")\n",
    "\n",
    "\n",
    "\n",
    "\n",
    "    return (full_dataset, test_dataset.classes)\n",
    "\n",
    "\n",
    "\n",
    "\n",
    "data_loader, classes = get_dataset(data_dir = './data/cifar10_1batch')"
   ]
  },
  {
   "cell_type": "code",
   "execution_count": 6,
   "metadata": {},
   "outputs": [
    {
     "ename": "NameError",
     "evalue": "name 'data_loader' is not defined",
     "output_type": "error",
     "traceback": [
      "\u001b[1;31m---------------------------------------------------------------------------\u001b[0m",
      "\u001b[1;31mNameError\u001b[0m                                 Traceback (most recent call last)",
      "\u001b[1;32mc:\\Users\\Lenovo\\Desktop\\ada\\research\\guidedresearchproject-rongo1\\data_cleansing.ipynb Cell 3\u001b[0m in \u001b[0;36m4\n\u001b[0;32m      <a href='vscode-notebook-cell:/c%3A/Users/Lenovo/Desktop/ada/research/guidedresearchproject-rongo1/data_cleansing.ipynb#W2sZmlsZQ%3D%3D?line=0'>1</a>\u001b[0m \u001b[39mfrom\u001b[39;00m \u001b[39mPIL\u001b[39;00m \u001b[39mimport\u001b[39;00m Image\n\u001b[0;32m      <a href='vscode-notebook-cell:/c%3A/Users/Lenovo/Desktop/ada/research/guidedresearchproject-rongo1/data_cleansing.ipynb#W2sZmlsZQ%3D%3D?line=2'>3</a>\u001b[0m \u001b[39m# Iterate through the DataLoader\u001b[39;00m\n\u001b[1;32m----> <a href='vscode-notebook-cell:/c%3A/Users/Lenovo/Desktop/ada/research/guidedresearchproject-rongo1/data_cleansing.ipynb#W2sZmlsZQ%3D%3D?line=3'>4</a>\u001b[0m \u001b[39mfor\u001b[39;00m batch \u001b[39min\u001b[39;00m data_loader:\n\u001b[0;32m      <a href='vscode-notebook-cell:/c%3A/Users/Lenovo/Desktop/ada/research/guidedresearchproject-rongo1/data_cleansing.ipynb#W2sZmlsZQ%3D%3D?line=4'>5</a>\u001b[0m     \u001b[39m# Assuming the batch contains 'image' and 'label' keys\u001b[39;00m\n\u001b[0;32m      <a href='vscode-notebook-cell:/c%3A/Users/Lenovo/Desktop/ada/research/guidedresearchproject-rongo1/data_cleansing.ipynb#W2sZmlsZQ%3D%3D?line=5'>6</a>\u001b[0m     images \u001b[39m=\u001b[39m batch[\u001b[39m'\u001b[39m\u001b[39mimage\u001b[39m\u001b[39m'\u001b[39m]\n\u001b[0;32m      <a href='vscode-notebook-cell:/c%3A/Users/Lenovo/Desktop/ada/research/guidedresearchproject-rongo1/data_cleansing.ipynb#W2sZmlsZQ%3D%3D?line=6'>7</a>\u001b[0m     labels \u001b[39m=\u001b[39m batch[\u001b[39m'\u001b[39m\u001b[39mlabel\u001b[39m\u001b[39m'\u001b[39m]\n",
      "\u001b[1;31mNameError\u001b[0m: name 'data_loader' is not defined"
     ]
    }
   ],
   "source": [
    "from PIL import Image\n",
    "data_iter = iter(data_loader)\n",
    "images, labels = next(data_iter)\n",
    "# Iterate through the DataLoader\n",
    "for batch in data_loader:\n",
    "    # Assuming the batch contains 'image' and 'label' keys\n",
    "    images = batch['image']\n",
    "    labels = batch['label']\n",
    "\n",
    "    # Iterate through the images in the batch\n",
    "    for i in range(len(images)):\n",
    "        image = images[i]\n",
    "        label = labels[i]\n",
    "\n",
    "        # Convert the tensor image to PIL Image\n",
    "        image_pil = transforms.ToPILImage()(image)\n",
    "\n",
    "        # Save the image\n",
    "        image_pil.save(f'image_{i}.jpg')"
   ]
  },
  {
   "cell_type": "code",
   "execution_count": null,
   "metadata": {},
   "outputs": [],
   "source": []
  }
 ],
 "metadata": {
  "kernelspec": {
   "display_name": "Python 3",
   "language": "python",
   "name": "python3"
  },
  "language_info": {
   "codemirror_mode": {
    "name": "ipython",
    "version": 3
   },
   "file_extension": ".py",
   "mimetype": "text/x-python",
   "name": "python",
   "nbconvert_exporter": "python",
   "pygments_lexer": "ipython3",
   "version": "3.10.0"
  },
  "orig_nbformat": 4
 },
 "nbformat": 4,
 "nbformat_minor": 2
}
