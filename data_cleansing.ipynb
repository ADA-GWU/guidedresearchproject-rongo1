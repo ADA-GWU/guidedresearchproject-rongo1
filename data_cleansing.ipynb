{
 "cells": [
  {
   "cell_type": "code",
   "execution_count": 5,
   "metadata": {},
   "outputs": [],
   "source": [
    "import numpy as np\n",
    "import torch\n",
    "import torch.nn as nn\n",
    "from torchvision import datasets\n",
    "from torchvision import transforms\n",
    "from torch.utils.data.sampler import SubsetRandomSampler\n",
    "import matplotlib.pyplot as plt\n",
    "from torch.utils.data import ConcatDataset\n",
    "\n",
    "\n",
    "device = torch.device('cuda' if torch.cuda.is_available() else 'cpu')"
   ]
  },
  {
   "cell_type": "code",
   "execution_count": 6,
   "metadata": {},
   "outputs": [
    {
     "name": "stdout",
     "output_type": "stream",
     "text": [
      "Files already downloaded and verified\n",
      "Files already downloaded and verified\n"
     ]
    }
   ],
   "source": [
    "def get_dataset(data_dir):\n",
    "    transform = transforms.Compose([\n",
    "            transforms.ToTensor()\n",
    "        ])\n",
    "    train_dataset = datasets.CIFAR10(\n",
    "        root=data_dir, train=True, download= True,  transform=transform,\n",
    "    )\n",
    "    test_dataset = datasets.CIFAR10(\n",
    "        root=data_dir, train=False, download= True,  transform=transform,\n",
    "    )\n",
    "    full_dataset = ConcatDataset([train_dataset, test_dataset])\n",
    " \n",
    "    train_loader = torch.utils.data.DataLoader(\n",
    "    full_dataset, batch_size=1,\n",
    "     num_workers=2\n",
    ")\n",
    "\n",
    "\n",
    "\n",
    "\n",
    "    return (full_dataset, test_dataset.classes)\n",
    "\n",
    "\n",
    "\n",
    "\n",
    "data_loader, classes = get_dataset(data_dir = './data/cifar10_1batch')"
   ]
  },
  {
   "cell_type": "code",
   "execution_count": 7,
   "metadata": {},
   "outputs": [],
   "source": [
    "from PIL import Image\n",
    "i = 0\n",
    "for image, label  in  iter(data_loader):\n",
    "    image_pil = transforms.ToPILImage()(image)\n",
    "    image_pil.save(f'data/low_res/{classes[label]}_{label}_{i}.jpg')\n",
    "    i += 1\n",
    "\n",
    "    "
   ]
  },
  {
   "cell_type": "code",
   "execution_count": null,
   "metadata": {},
   "outputs": [],
   "source": []
  }
 ],
 "metadata": {
  "kernelspec": {
   "display_name": "Python 3",
   "language": "python",
   "name": "python3"
  },
  "language_info": {
   "codemirror_mode": {
    "name": "ipython",
    "version": 3
   },
   "file_extension": ".py",
   "mimetype": "text/x-python",
   "name": "python",
   "nbconvert_exporter": "python",
   "pygments_lexer": "ipython3",
   "version": "3.10.0"
  },
  "orig_nbformat": 4
 },
 "nbformat": 4,
 "nbformat_minor": 2
}
