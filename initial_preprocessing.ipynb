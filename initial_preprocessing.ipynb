{
 "cells": [
  {
   "cell_type": "code",
   "execution_count": 6,
   "metadata": {},
   "outputs": [],
   "source": [
    "import cv2\n",
    "import numpy as np\n",
    "import matplotlib.pyplot as plt\n",
    "\n",
    "import os\n",
    "\n",
    "\n"
   ]
  },
  {
   "cell_type": "code",
   "execution_count": 3,
   "metadata": {},
   "outputs": [],
   "source": [
    "img = cv2.imread('../data/test/0026.jpg')"
   ]
  },
  {
   "cell_type": "code",
   "execution_count": 5,
   "metadata": {},
   "outputs": [
    {
     "data": {
      "text/plain": [
       "(224, 224, 3)"
      ]
     },
     "execution_count": 5,
     "metadata": {},
     "output_type": "execute_result"
    }
   ],
   "source": [
    "img.shape"
   ]
  },
  {
   "cell_type": "code",
   "execution_count": 31,
   "metadata": {},
   "outputs": [
    {
     "name": "stdout",
     "output_type": "stream",
     "text": [
      "\n",
      " from train dataset: \n",
      "1 0741.jpg with shape (210, 224, 3)\n",
      "2 0176.jpg with shape (198, 224, 3)\n",
      "3 0126.jpg with shape (211, 224, 3)\n",
      "4 0609.jpg with shape (200, 224, 3)\n",
      "5 0430.jpg with shape (193, 224, 3)\n",
      "6 0526.jpg with shape (205, 224, 3)\n",
      "\n",
      " from validation dataset: \n",
      "7 1138.jpg with shape (187, 224, 3)\n",
      "8 1150.jpg with shape (223, 224, 3)\n",
      "\n",
      " from test dataset: \n",
      "9 1246.jpg with shape (207, 224, 3)\n"
     ]
    }
   ],
   "source": [
    "folder_path = '/home/sign-lang/yusif/research/data/vegetable_images'\n",
    "i = 0\n",
    "for path in os.listdir(folder_path):\n",
    "        if path not in ['train', 'test', 'validation']:\n",
    "              continue\n",
    "        save_sec_path = folder_path + '/' + path\n",
    "        print(\"\\n from \" + path + \" dataset: \")\n",
    "        for path1 in os.listdir(save_sec_path):\n",
    "            save_3_path = save_sec_path + '/' + path1       \n",
    "            for file in os.listdir(save_3_path):\n",
    "                    img_path =  save_3_path + '/' + file\n",
    "                    img =  cv2.imread(img_path)\n",
    "                    if img.shape != (224, 224, 3): \n",
    "                        i+=1                       \n",
    "                        print(str(i) + ' ' + file + \" with shape \" + str(img.shape))\n",
    "                   "
   ]
  },
  {
   "cell_type": "code",
   "execution_count": 23,
   "metadata": {},
   "outputs": [
    {
     "data": {
      "text/plain": [
       "4"
      ]
     },
     "execution_count": 23,
     "metadata": {},
     "output_type": "execute_result"
    }
   ],
   "source": [
    "len(os.listdir('/home/sign-lang/yusif/research/data/vegetable_images'))"
   ]
  },
  {
   "cell_type": "code",
   "execution_count": null,
   "metadata": {},
   "outputs": [],
   "source": [
    "# occluded imaged "
   ]
  }
 ],
 "metadata": {
  "kernelspec": {
   "display_name": "sign-lang",
   "language": "python",
   "name": "python3"
  },
  "language_info": {
   "codemirror_mode": {
    "name": "ipython",
    "version": 3
   },
   "file_extension": ".py",
   "mimetype": "text/x-python",
   "name": "python",
   "nbconvert_exporter": "python",
   "pygments_lexer": "ipython3",
   "version": "3.9.12"
  },
  "orig_nbformat": 4
 },
 "nbformat": 4,
 "nbformat_minor": 2
}
