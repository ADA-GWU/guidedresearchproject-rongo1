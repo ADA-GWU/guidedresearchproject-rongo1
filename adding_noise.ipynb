{
 "cells": [
  {
   "cell_type": "code",
   "execution_count": 5,
   "metadata": {},
   "outputs": [],
   "source": [
    "import cv2\n",
    "import numpy as np\n",
    "\n",
    "\n",
    "img = cv2.imread('data/test/test_image.jpg')\n",
    "\n",
    "# Generate random Gaussian noise\n",
    "mean = 0\n",
    "stddev = 180\n",
    "noise = np.zeros(img.shape, np.uint8)\n",
    "cv2.randn(noise, mean, stddev)\n",
    "\n",
    "\n",
    "noisy_img = cv2.add(img, noise)\n",
    "\n",
    "\n",
    "cv2.imwrite('noisy_img.jpg', noisy_img)\n",
    "\n",
    "combines_images = np.concatenate((img, noisy_img), axis=1)\n",
    "\n",
    "cv2.imshow('noisy_img', combines_images)\n",
    "cv2.waitKey(0)\n",
    "cv2.destroyAllWindows()"
   ]
  },
  {
   "cell_type": "code",
   "execution_count": 6,
   "metadata": {},
   "outputs": [
    {
     "data": {
      "text/plain": [
       "(433, 640, 3)"
      ]
     },
     "execution_count": 6,
     "metadata": {},
     "output_type": "execute_result"
    }
   ],
   "source": [
    "img.shape"
   ]
  },
  {
   "cell_type": "code",
   "execution_count": null,
   "metadata": {},
   "outputs": [],
   "source": [
    "import matplotlib.pyplot as plt\n",
    "gauss_noise=np.zeros((640,480),dtype=np.uint8)\n",
    "cv2.randn(gauss_noise,128,20)\n",
    "gauss_noise=(gauss_noise*0.5).astype(np.uint8)\n",
    "\n",
    "gn_img=cv2.add(img,gauss_noise)\n",
    "\n",
    "fig=plt.figure(dpi=300)\n",
    "\n",
    "fig.add_subplot(1,3,1)\n",
    "plt.imshow(img,cmap='gray')\n",
    "plt.axis(\"off\")\n",
    "plt.title(\"Original\")\n",
    "\n",
    "fig.add_subplot(1,3,2)\n",
    "plt.imshow(gauss_noise,cmap='gray')\n",
    "plt.axis(\"off\")\n",
    "plt.title(\"Gaussian Noise\")\n",
    "\n",
    "fig.add_subplot(1,3,3)\n",
    "plt.imshow(gn_img,cmap='gray')\n",
    "plt.axis(\"off\")\n",
    "plt.title(\"Combined\")"
   ]
  }
 ],
 "metadata": {
  "kernelspec": {
   "display_name": "Python 3",
   "language": "python",
   "name": "python3"
  },
  "language_info": {
   "codemirror_mode": {
    "name": "ipython",
    "version": 3
   },
   "file_extension": ".py",
   "mimetype": "text/x-python",
   "name": "python",
   "nbconvert_exporter": "python",
   "pygments_lexer": "ipython3",
   "version": "3.10.0"
  },
  "orig_nbformat": 4
 },
 "nbformat": 4,
 "nbformat_minor": 2
}
